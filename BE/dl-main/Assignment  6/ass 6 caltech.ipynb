{
 "cells": [
  {
   "cell_type": "code",
   "execution_count": 1,
   "id": "ae4cf657",
   "metadata": {},
   "outputs": [],
   "source": [
    "from keras.preprocessing.image import ImageDataGenerator\n",
    "import tensorflow as tf\n",
    "from tensorflow import keras\n",
    "from tensorflow.keras.applications import VGG16\n",
    "import numpy as np"
   ]
  },
  {
   "cell_type": "code",
   "execution_count": 3,
   "id": "b65b553f",
   "metadata": {},
   "outputs": [
    {
     "name": "stdout",
     "output_type": "stream",
     "text": [
      "Found 9144 images belonging to 102 classes.\n"
     ]
    }
   ],
   "source": [
    "path = 'C:/Users/Acer/Downloads/dataset/caltech-101-img'\n",
    "\n",
    "load = ImageDataGenerator(rescale=1.0/255)\n",
    "\n",
    "data = load.flow_from_directory(\n",
    "    path,\n",
    "    target_size=(64, 64),\n",
    "    class_mode = 'categorical',\n",
    "    batch_size=2000\n",
    ")\n"
   ]
  },
  {
   "cell_type": "code",
   "execution_count": 4,
   "id": "4af7dcb3",
   "metadata": {},
   "outputs": [],
   "source": [
    "x_train, y_train = data[0]\n",
    "x_test, y_test = data[1]"
   ]
  },
  {
   "cell_type": "code",
   "execution_count": 6,
   "id": "0b82dc18",
   "metadata": {},
   "outputs": [],
   "source": [
    "# a. Load in a pre-trained CNN model trained on a large dataset\n",
    "path = \"C:/Users/Acer/Downloads/dataset/vgg16_weights_tf_dim_ordering_tf_kernels_notop.h5\"\n",
    "pretrainned_model = VGG16(weights=path, include_top=False,input_shape=(64,64,3))"
   ]
  },
  {
   "cell_type": "code",
   "execution_count": 7,
   "id": "5f729ae2",
   "metadata": {},
   "outputs": [],
   "source": [
    "# b. Freeze parameters (weights) in model’s lower convolutional layers\n",
    "\n",
    "for i in pretrainned_model.layers:\n",
    "    i.trainable = False"
   ]
  },
  {
   "cell_type": "code",
   "execution_count": 9,
   "id": "d8ed171e",
   "metadata": {},
   "outputs": [],
   "source": [
    "# c. Add custom classifier with several layers of trainable parameters to model\n",
    "x = keras.layers.Flatten()(pretrainned_model.output)\n",
    "x = keras.layers.Dense(120, activation='relu')(x)\n",
    "x = keras.layers.Dropout((0.5))(x)\n",
    "predictions = keras.layers.Dense(102, activation='softmax')(x)\n",
    "\n",
    "model = keras.Model(inputs=pretrainned_model.input, outputs=predictions)"
   ]
  },
  {
   "cell_type": "code",
   "execution_count": 10,
   "id": "d98a80f9",
   "metadata": {},
   "outputs": [
    {
     "name": "stdout",
     "output_type": "stream",
     "text": [
      "Epoch 1/3\n",
      "63/63 [==============================] - 40s 618ms/step - loss: 3.9112 - accuracy: 0.2100 - val_loss: 3.2177 - val_accuracy: 0.2970\n",
      "Epoch 2/3\n",
      "63/63 [==============================] - 37s 597ms/step - loss: 3.1668 - accuracy: 0.3260 - val_loss: 2.8577 - val_accuracy: 0.3670\n",
      "Epoch 3/3\n",
      "63/63 [==============================] - 38s 609ms/step - loss: 2.7548 - accuracy: 0.3900 - val_loss: 2.5532 - val_accuracy: 0.4480\n"
     ]
    },
    {
     "data": {
      "text/plain": [
       "<keras.src.callbacks.History at 0x2249dc6c4c0>"
      ]
     },
     "execution_count": 10,
     "metadata": {},
     "output_type": "execute_result"
    }
   ],
   "source": [
    "# d. Train classifier layers on training data available for task\n",
    "\n",
    "\n",
    "model.compile(optimizer='adam', loss='categorical_crossentropy', metrics=['accuracy'])\n",
    "model.fit(x_train, y_train, epochs=3, validation_data=(x_test, y_test))"
   ]
  },
  {
   "cell_type": "code",
   "execution_count": 14,
   "id": "22eb4a75",
   "metadata": {},
   "outputs": [],
   "source": [
    "# e. Fine-tune hyper parameters and unfreeze more layers as needed\n",
    "\n",
    "new_model = VGG16(input_shape=(64,64,3), weights = path, include_top = False)\n",
    "\n",
    "# freeze\n",
    "for i in new_model.layers:\n",
    "    i.trainable = False\n",
    "    \n",
    "# unfree last 4\n",
    "for i in new_model.layers[len(new_model.layers)-4:]:\n",
    "    i.trainable = True\n",
    "    "
   ]
  },
  {
   "cell_type": "code",
   "execution_count": 17,
   "id": "de7bd6f5",
   "metadata": {},
   "outputs": [],
   "source": [
    "x = keras.layers.Flatten()(new_model.output)\n",
    "x = keras.layers.Dense(512, activation='relu')(x)\n",
    "x = keras.layers.Dropout(0.3)(x)\n",
    "predictions = keras.layers.Dense(102, activation='softmax')(x)"
   ]
  },
  {
   "cell_type": "code",
   "execution_count": 23,
   "id": "6a0a2d01",
   "metadata": {},
   "outputs": [],
   "source": [
    "model = keras.Model(inputs=new_model.input, outputs=predictions)"
   ]
  },
  {
   "cell_type": "code",
   "execution_count": 24,
   "id": "2a689aff",
   "metadata": {},
   "outputs": [
    {
     "name": "stdout",
     "output_type": "stream",
     "text": [
      "Epoch 1/3\n",
      "63/63 [==============================] - 69s 1s/step - loss: 3.7565 - accuracy: 0.2155 - val_loss: 3.3226 - val_accuracy: 0.2945\n",
      "Epoch 2/3\n",
      "63/63 [==============================] - 67s 1s/step - loss: 3.1544 - accuracy: 0.3310 - val_loss: 2.9784 - val_accuracy: 0.3570\n",
      "Epoch 3/3\n",
      "63/63 [==============================] - 68s 1s/step - loss: 2.7889 - accuracy: 0.3820 - val_loss: 2.7068 - val_accuracy: 0.3880\n"
     ]
    },
    {
     "data": {
      "text/plain": [
       "<keras.src.callbacks.History at 0x224a245ec80>"
      ]
     },
     "execution_count": 24,
     "metadata": {},
     "output_type": "execute_result"
    }
   ],
   "source": [
    "model.compile(optimizer='adam', loss='categorical_crossentropy', metrics=['accuracy'])\n",
    "model.fit(x_train, y_train, epochs=3, validation_data=(x_test, y_test))"
   ]
  },
  {
   "cell_type": "code",
   "execution_count": 27,
   "id": "2108cd16",
   "metadata": {},
   "outputs": [],
   "source": [
    "labels = list(data.class_indices.keys())"
   ]
  },
  {
   "cell_type": "code",
   "execution_count": 29,
   "id": "c8b565e9",
   "metadata": {},
   "outputs": [
    {
     "name": "stdout",
     "output_type": "stream",
     "text": [
      "63/63 [==============================] - 19s 301ms/step\n"
     ]
    }
   ],
   "source": [
    "import matplotlib.pyplot as plt\n",
    "y_predicts = model.predict(x_test)\n",
    "\n"
   ]
  },
  {
   "cell_type": "code",
   "execution_count": 31,
   "id": "bce13b66",
   "metadata": {},
   "outputs": [
    {
     "name": "stdout",
     "output_type": "stream",
     "text": [
      "BACKGROUND_Google\n",
      "grand_piano\n"
     ]
    },
    {
     "data": {
      "text/plain": [
       "<matplotlib.image.AxesImage at 0x224a53719c0>"
      ]
     },
     "execution_count": 31,
     "metadata": {},
     "output_type": "execute_result"
    },
    {
     "data": {
      "image/png": "[encoded data removed]",
      "text/plain": [
       "<Figure size 640x480 with 1 Axes>"
      ]
     },
     "metadata": {},
     "output_type": "display_data"
    }
   ],
   "source": [
    "import numpy as np\n",
    "\n",
    "n = 5\n",
    "print(labels[np.argmax(x_test[n])])\n",
    "print(labels[np.argmax(y_predicts[n])])\n",
    "plt.imshow(x_test[n])"
   ]
  },
  {
   "cell_type": "code",
   "execution_count": 32,
   "id": "4fa0f71a",
   "metadata": {},
   "outputs": [],
   "source": [
    "# Object detection using Transfer Learning of CNN architectures\n",
    "# a. Load in a pre-trained CNN model trained on a large dataset\n",
    "# b. Freeze parameters (weights) in model’s lower convolutional layers\n",
    "# c. Add custom classifier with several layers of trainable parameters to model\n",
    "# d. Train classifier layers on training data available for task\n",
    "# e. Fine-tune hyper parameters and unfreeze more layers as needed"
   ]
  },
  {
   "cell_type": "code",
   "execution_count": null,
   "id": "cbe55826",
   "metadata": {},
   "outputs": [],
   "source": []
  }
 ],
 "metadata": {
  "kernelspec": {
   "display_name": "Python 3 (ipykernel)",
   "language": "python",
   "name": "python3"
  },
  "language_info": {
   "codemirror_mode": {
    "name": "ipython",
    "version": 3
   },
   "file_extension": ".py",
   "mimetype": "text/x-python",
   "name": "python",
   "nbconvert_exporter": "python",
   "pygments_lexer": "ipython3",
   "version": "3.10.9"
  }
 },
 "nbformat": 4,
 "nbformat_minor": 5
}
