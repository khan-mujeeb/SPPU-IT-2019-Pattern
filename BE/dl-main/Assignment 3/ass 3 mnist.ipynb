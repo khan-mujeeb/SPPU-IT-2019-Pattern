{
 "cells": [
  {
   "cell_type": "code",
   "execution_count": 25,
   "id": "385e19ba",
   "metadata": {},
   "outputs": [],
   "source": [
    "import tensorflow as tf\n",
    "from tensorflow import keras\n",
    "from keras.preprocessing.image import ImageDataGenerator"
   ]
  },
  {
   "cell_type": "code",
   "execution_count": 26,
   "id": "87b87974",
   "metadata": {},
   "outputs": [],
   "source": [
    "# Build the Image classification model by dividing the model into following 4\n",
    "# stages:\n",
    "# a. Loading and preprocessing the image data\n",
    "# b. Defining the model’s architecture\n",
    "# c. Training the model\n",
    "# d. Estimating the model’s performance"
   ]
  },
  {
   "cell_type": "code",
   "execution_count": 27,
   "id": "44490e63",
   "metadata": {},
   "outputs": [],
   "source": [
    "# b. load data\n",
    "\n",
    "train_data_path = 'C:/Users/Acer/Downloads/dataset/mnist-jpg/train'\n",
    "test_data_path = 'C:/Users/Acer/Downloads/dataset/mnist-jpg/test'"
   ]
  },
  {
   "cell_type": "code",
   "execution_count": 36,
   "id": "ba84adf9",
   "metadata": {},
   "outputs": [
    {
     "name": "stdout",
     "output_type": "stream",
     "text": [
      "Found 60000 images belonging to 10 classes.\n",
      "Found 10000 images belonging to 10 classes.\n"
     ]
    }
   ],
   "source": [
    "# Image data generator for training data\n",
    "load = ImageDataGenerator( rescale=1.0/255 )\n",
    "\n",
    "# Create data generators\n",
    "train_generator = load.flow_from_directory(\n",
    "    train_data_path,\n",
    "    target_size=(28, 28),\n",
    "    batch_size= 10000,\n",
    "    class_mode='categorical',\n",
    "    color_mode='grayscale',\n",
    "    shuffle=True,\n",
    ")\n",
    "\n",
    "test_generator = load.flow_from_directory(\n",
    "    test_data_path,\n",
    "    target_size = (28,28),\n",
    "    class_mode='categorical',\n",
    "    batch_size= 2000,\n",
    "    color_mode = 'grayscale',\n",
    "    shuffle=True\n",
    ")"
   ]
  },
  {
   "cell_type": "code",
   "execution_count": 41,
   "id": "7186802e",
   "metadata": {},
   "outputs": [
    {
     "name": "stdout",
     "output_type": "stream",
     "text": [
      "(10000, 28, 28, 1)\n",
      "(10000, 10)\n",
      "(2000, 28, 28, 1)\n",
      "(2000, 10)\n"
     ]
    }
   ],
   "source": [
    "x_train, y_train = x_data[0]\n",
    "x_test, y_test = y_data[0]\n",
    "\n",
    "for i in (x_train, y_train, x_test, y_test):\n",
    "    print(i.shape)"
   ]
  },
  {
   "cell_type": "code",
   "execution_count": 40,
   "id": "191996d0",
   "metadata": {},
   "outputs": [
    {
     "name": "stdout",
     "output_type": "stream",
     "text": [
      "Model: \"sequential_5\"\n",
      "_________________________________________________________________\n",
      " Layer (type)                Output Shape              Param #   \n",
      "=================================================================\n",
      " conv2d_5 (Conv2D)           (None, 26, 26, 28)        280       \n",
      "                                                                 \n",
      " max_pooling2d_5 (MaxPoolin  (None, 13, 13, 28)        0         \n",
      " g2D)                                                            \n",
      "                                                                 \n",
      " flatten_5 (Flatten)         (None, 4732)              0         \n",
      "                                                                 \n",
      " dense_10 (Dense)            (None, 300)               1419900   \n",
      "                                                                 \n",
      " dropout_5 (Dropout)         (None, 300)               0         \n",
      "                                                                 \n",
      " dense_11 (Dense)            (None, 10)                3010      \n",
      "                                                                 \n",
      "=================================================================\n",
      "Total params: 1423190 (5.43 MB)\n",
      "Trainable params: 1423190 (5.43 MB)\n",
      "Non-trainable params: 0 (0.00 Byte)\n",
      "_________________________________________________________________\n"
     ]
    }
   ],
   "source": [
    "# c. Define the network architecture using Keras\n",
    "\n",
    "model = keras.Sequential([\n",
    "    keras.layers.Conv2D(28, kernel_size = (3, 3), input_shape = (28, 28, 1)),\n",
    "    keras.layers.MaxPooling2D(pool_size=(2,2)),\n",
    "    keras.layers.Flatten(),\n",
    "    keras.layers.Dense(300, activation = 'relu'),\n",
    "    keras.layers.Dropout((0.5)),\n",
    "    keras.layers.Dense(10, activation = 'softmax')\n",
    "])\n",
    "\n",
    "model.summary()"
   ]
  },
  {
   "cell_type": "code",
   "execution_count": 42,
   "id": "f7f6cf25",
   "metadata": {},
   "outputs": [
    {
     "name": "stdout",
     "output_type": "stream",
     "text": [
      "Epoch 1/5\n",
      "313/313 [==============================] - 15s 44ms/step - loss: 0.4933 - accuracy: 0.8508 - val_loss: 0.2296 - val_accuracy: 0.9340\n",
      "Epoch 2/5\n",
      "313/313 [==============================] - 13s 41ms/step - loss: 0.2274 - accuracy: 0.9307 - val_loss: 0.1638 - val_accuracy: 0.9490\n",
      "Epoch 3/5\n",
      "313/313 [==============================] - 13s 41ms/step - loss: 0.1538 - accuracy: 0.9511 - val_loss: 0.1308 - val_accuracy: 0.9615\n",
      "Epoch 4/5\n",
      "313/313 [==============================] - 13s 41ms/step - loss: 0.1126 - accuracy: 0.9629 - val_loss: 0.1223 - val_accuracy: 0.9645\n",
      "Epoch 5/5\n",
      "313/313 [==============================] - 13s 41ms/step - loss: 0.0884 - accuracy: 0.9734 - val_loss: 0.1166 - val_accuracy: 0.9640\n"
     ]
    }
   ],
   "source": [
    "model.compile(optimizer='adam', loss = 'categorical_crossentropy', metrics=['accuracy'])\n",
    "history = model.fit(x_train, y_train, epochs = 5, validation_data = (x_test, y_test))"
   ]
  },
  {
   "cell_type": "code",
   "execution_count": null,
   "id": "8e83dde6",
   "metadata": {},
   "outputs": [],
   "source": []
  }
 ],
 "metadata": {
  "kernelspec": {
   "display_name": "Python 3 (ipykernel)",
   "language": "python",
   "name": "python3"
  },
  "language_info": {
   "codemirror_mode": {
    "name": "ipython",
    "version": 3
   },
   "file_extension": ".py",
   "mimetype": "text/x-python",
   "name": "python",
   "nbconvert_exporter": "python",
   "pygments_lexer": "ipython3",
   "version": "3.10.9"
  }
 },
 "nbformat": 4,
 "nbformat_minor": 5
}
